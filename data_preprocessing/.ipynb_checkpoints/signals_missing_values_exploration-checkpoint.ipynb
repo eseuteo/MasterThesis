{
 "cells": [
  {
   "cell_type": "code",
   "execution_count": 16,
   "id": "e0458331",
   "metadata": {},
   "outputs": [],
   "source": [
    "import pandas as pd\n",
    "import numpy as np\n",
    "\n",
    "import psycopg2\n",
    "import os\n",
    "import wfdb\n",
    "import urllib.request\n",
    "import datetime\n",
    "import re"
   ]
  },
  {
   "cell_type": "code",
   "execution_count": 2,
   "id": "c732c93f",
   "metadata": {},
   "outputs": [],
   "source": [
    "connection = psycopg2.connect(database=\"mimic\", user=os.environ[\"USERNAME\"])\n",
    "cursor = connection.cursor()\n",
    "cursor.execute(\"set search_path to mimiciii\")"
   ]
  },
  {
   "cell_type": "code",
   "execution_count": 3,
   "id": "875f7aac",
   "metadata": {},
   "outputs": [],
   "source": [
    "query_waveform_exists = \"\"\"SELECT  *\n",
    "    FROM sepsis3_cohort coh \n",
    "    WHERE coh.waveform_exists = 1\"\"\"\n",
    "df_waveform_exists = pd.read_sql(query_waveform_exists, connection)"
   ]
  },
  {
   "cell_type": "code",
   "execution_count": 17,
   "id": "a1782687",
   "metadata": {},
   "outputs": [
    {
     "name": "stdout",
     "output_type": "stream",
     "text": [
      "-1\n",
      "-2050\n",
      "-2053\n",
      "-2055\n",
      "-2092\n",
      "-2099\n",
      "-1\n",
      "-1\n"
     ]
    },
    {
     "ename": "KeyboardInterrupt",
     "evalue": "",
     "output_type": "error",
     "traceback": [
      "\u001b[0;31m---------------------------------------------------------------------------\u001b[0m",
      "\u001b[0;31mKeyboardInterrupt\u001b[0m                         Traceback (most recent call last)",
      "\u001b[0;32m<ipython-input-17-08ea351d5a70>\u001b[0m in \u001b[0;36m<module>\u001b[0;34m\u001b[0m\n\u001b[1;32m     12\u001b[0m         \u001b[0mrecord\u001b[0m \u001b[0;34m=\u001b[0m \u001b[0mstr\u001b[0m\u001b[0;34m(\u001b[0m\u001b[0mrecord\u001b[0m\u001b[0;34m)\u001b[0m\u001b[0;34m.\u001b[0m\u001b[0mrstrip\u001b[0m\u001b[0;34m(\u001b[0m\u001b[0;34m)\u001b[0m\u001b[0;34m\u001b[0m\u001b[0;34m\u001b[0m\u001b[0m\n\u001b[1;32m     13\u001b[0m         \u001b[0;32mif\u001b[0m \u001b[0mrecord\u001b[0m\u001b[0;34m[\u001b[0m\u001b[0;34m-\u001b[0m\u001b[0;36m1\u001b[0m\u001b[0;34m]\u001b[0m \u001b[0;34m==\u001b[0m \u001b[0;34m\"n\"\u001b[0m\u001b[0;34m:\u001b[0m\u001b[0;34m\u001b[0m\u001b[0;34m\u001b[0m\u001b[0m\n\u001b[0;32m---> 14\u001b[0;31m             \u001b[0msignals\u001b[0m\u001b[0;34m,\u001b[0m \u001b[0mfields\u001b[0m \u001b[0;34m=\u001b[0m \u001b[0mwfdb\u001b[0m\u001b[0;34m.\u001b[0m\u001b[0mrdsamp\u001b[0m\u001b[0;34m(\u001b[0m\u001b[0mrecord\u001b[0m\u001b[0;34m,\u001b[0m \u001b[0mpn_dir\u001b[0m\u001b[0;34m=\u001b[0m\u001b[0mwdb_dir_path\u001b[0m\u001b[0;34m)\u001b[0m\u001b[0;34m\u001b[0m\u001b[0;34m\u001b[0m\u001b[0m\n\u001b[0m\u001b[1;32m     15\u001b[0m             signals_names_list = [\n\u001b[1;32m     16\u001b[0m                 \u001b[0mre\u001b[0m\u001b[0;34m.\u001b[0m\u001b[0msub\u001b[0m\u001b[0;34m(\u001b[0m\u001b[0;34mr\"[\\s%]\"\u001b[0m\u001b[0;34m,\u001b[0m \u001b[0;34m\"\"\u001b[0m\u001b[0;34m,\u001b[0m \u001b[0mitem\u001b[0m\u001b[0;34m.\u001b[0m\u001b[0mupper\u001b[0m\u001b[0;34m(\u001b[0m\u001b[0;34m)\u001b[0m\u001b[0;34m)\u001b[0m \u001b[0;32mfor\u001b[0m \u001b[0mitem\u001b[0m \u001b[0;32min\u001b[0m \u001b[0mfields\u001b[0m\u001b[0;34m[\u001b[0m\u001b[0;34m\"sig_name\"\u001b[0m\u001b[0;34m]\u001b[0m\u001b[0;34m\u001b[0m\u001b[0;34m\u001b[0m\u001b[0m\n",
      "\u001b[0;32m~/.local/lib/python3.8/site-packages/wfdb/io/record.py\u001b[0m in \u001b[0;36mrdsamp\u001b[0;34m(record_name, sampfrom, sampto, channels, pn_dir, channel_names, warn_empty, return_res)\u001b[0m\n\u001b[1;32m   3688\u001b[0m         \u001b[0mpn_dir\u001b[0m \u001b[0;34m=\u001b[0m \u001b[0mposixpath\u001b[0m\u001b[0;34m.\u001b[0m\u001b[0mjoin\u001b[0m\u001b[0;34m(\u001b[0m\u001b[0mdir_list\u001b[0m\u001b[0;34m[\u001b[0m\u001b[0;36m0\u001b[0m\u001b[0;34m]\u001b[0m\u001b[0;34m,\u001b[0m \u001b[0mget_version\u001b[0m\u001b[0;34m(\u001b[0m\u001b[0mdir_list\u001b[0m\u001b[0;34m[\u001b[0m\u001b[0;36m0\u001b[0m\u001b[0;34m]\u001b[0m\u001b[0;34m)\u001b[0m\u001b[0;34m,\u001b[0m \u001b[0;34m*\u001b[0m\u001b[0mdir_list\u001b[0m\u001b[0;34m[\u001b[0m\u001b[0;36m1\u001b[0m\u001b[0;34m:\u001b[0m\u001b[0;34m]\u001b[0m\u001b[0;34m)\u001b[0m\u001b[0;34m\u001b[0m\u001b[0;34m\u001b[0m\u001b[0m\n\u001b[1;32m   3689\u001b[0m \u001b[0;34m\u001b[0m\u001b[0m\n\u001b[0;32m-> 3690\u001b[0;31m     record = rdrecord(record_name=record_name, sampfrom=sampfrom,\n\u001b[0m\u001b[1;32m   3691\u001b[0m                       \u001b[0msampto\u001b[0m\u001b[0;34m=\u001b[0m\u001b[0msampto\u001b[0m\u001b[0;34m,\u001b[0m \u001b[0mchannels\u001b[0m\u001b[0;34m=\u001b[0m\u001b[0mchannels\u001b[0m\u001b[0;34m,\u001b[0m \u001b[0mphysical\u001b[0m\u001b[0;34m=\u001b[0m\u001b[0;32mTrue\u001b[0m\u001b[0;34m,\u001b[0m\u001b[0;34m\u001b[0m\u001b[0;34m\u001b[0m\u001b[0m\n\u001b[1;32m   3692\u001b[0m                       \u001b[0mpn_dir\u001b[0m\u001b[0;34m=\u001b[0m\u001b[0mpn_dir\u001b[0m\u001b[0;34m,\u001b[0m \u001b[0mm2s\u001b[0m\u001b[0;34m=\u001b[0m\u001b[0;32mTrue\u001b[0m\u001b[0;34m,\u001b[0m \u001b[0mreturn_res\u001b[0m\u001b[0;34m=\u001b[0m\u001b[0mreturn_res\u001b[0m\u001b[0;34m,\u001b[0m\u001b[0;34m\u001b[0m\u001b[0;34m\u001b[0m\u001b[0m\n",
      "\u001b[0;32m~/.local/lib/python3.8/site-packages/wfdb/io/record.py\u001b[0m in \u001b[0;36mrdrecord\u001b[0;34m(record_name, sampfrom, sampto, channels, physical, pn_dir, m2s, smooth_frames, ignore_skew, return_res, force_channels, channel_names, warn_empty)\u001b[0m\n\u001b[1;32m   3489\u001b[0m                                                       return_res=return_res)\n\u001b[1;32m   3490\u001b[0m             \u001b[0;32melse\u001b[0m\u001b[0;34m:\u001b[0m\u001b[0;34m\u001b[0m\u001b[0;34m\u001b[0m\u001b[0m\n\u001b[0;32m-> 3491\u001b[0;31m                 record.d_signal = _signal._rd_segment(record.file_name,\n\u001b[0m\u001b[1;32m   3492\u001b[0m                                                       \u001b[0mdir_name\u001b[0m\u001b[0;34m,\u001b[0m \u001b[0mpn_dir\u001b[0m\u001b[0;34m,\u001b[0m\u001b[0;34m\u001b[0m\u001b[0;34m\u001b[0m\u001b[0m\n\u001b[1;32m   3493\u001b[0m                                                       \u001b[0mrecord\u001b[0m\u001b[0;34m.\u001b[0m\u001b[0mfmt\u001b[0m\u001b[0;34m,\u001b[0m\u001b[0;34m\u001b[0m\u001b[0;34m\u001b[0m\u001b[0m\n",
      "\u001b[0;32m~/.local/lib/python3.8/site-packages/wfdb/io/_signal.py\u001b[0m in \u001b[0;36m_rd_segment\u001b[0;34m(file_name, dir_name, pn_dir, fmt, n_sig, sig_len, byte_offset, samps_per_frame, skew, sampfrom, sampto, channels, smooth_frames, ignore_skew, no_file, sig_data, return_res)\u001b[0m\n\u001b[1;32m   1004\u001b[0m                     sig_data=sig_data)[:, r_w_channel[fn]]\n\u001b[1;32m   1005\u001b[0m             \u001b[0;32melse\u001b[0m\u001b[0;34m:\u001b[0m\u001b[0;34m\u001b[0m\u001b[0;34m\u001b[0m\u001b[0m\n\u001b[0;32m-> 1006\u001b[0;31m                 signals[:, out_dat_channel[fn]] = _rd_dat_signals(fn, dir_name,\n\u001b[0m\u001b[1;32m   1007\u001b[0m                     \u001b[0mpn_dir\u001b[0m\u001b[0;34m,\u001b[0m \u001b[0mw_fmt\u001b[0m\u001b[0;34m[\u001b[0m\u001b[0mfn\u001b[0m\u001b[0;34m]\u001b[0m\u001b[0;34m,\u001b[0m \u001b[0mlen\u001b[0m\u001b[0;34m(\u001b[0m\u001b[0mdatchannel\u001b[0m\u001b[0;34m[\u001b[0m\u001b[0mfn\u001b[0m\u001b[0;34m]\u001b[0m\u001b[0;34m)\u001b[0m\u001b[0;34m,\u001b[0m \u001b[0msig_len\u001b[0m\u001b[0;34m,\u001b[0m\u001b[0;34m\u001b[0m\u001b[0;34m\u001b[0m\u001b[0m\n\u001b[1;32m   1008\u001b[0m                     \u001b[0mw_byte_offset\u001b[0m\u001b[0;34m[\u001b[0m\u001b[0mfn\u001b[0m\u001b[0;34m]\u001b[0m\u001b[0;34m,\u001b[0m \u001b[0mw_samps_per_frame\u001b[0m\u001b[0;34m[\u001b[0m\u001b[0mfn\u001b[0m\u001b[0;34m]\u001b[0m\u001b[0;34m,\u001b[0m \u001b[0mw_skew\u001b[0m\u001b[0;34m[\u001b[0m\u001b[0mfn\u001b[0m\u001b[0;34m]\u001b[0m\u001b[0;34m,\u001b[0m\u001b[0;34m\u001b[0m\u001b[0;34m\u001b[0m\u001b[0m\n",
      "\u001b[0;31mKeyboardInterrupt\u001b[0m: "
     ]
    }
   ],
   "source": [
    "required_signals_list = [\"HR\", \"ABPSYS\", \"ABPDIAS\", \"ABPMEAN\", \"RESP\", \"SPO2\"]\n",
    "\n",
    "for index, row in df_waveform_exists.iterrows():\n",
    "    current_user_id = str(row.subject_id).zfill(6)\n",
    "    wdb_base_path = \"https://physionet.org/files/\"\n",
    "    wdb_dir_path = f\"mimic3wdb-matched/1.0/p{current_user_id[:2]}/p{current_user_id}/\"\n",
    "\n",
    "    wdb_records = urllib.request.urlopen(wdb_base_path + wdb_dir_path + \"RECORDS\")\n",
    "\n",
    "    for line in wdb_records.readlines():\n",
    "        record = line.decode(\"utf-8\")\n",
    "        record = str(record).rstrip()\n",
    "        if record[-1] == \"n\":\n",
    "            signals, fields = wfdb.rdsamp(record, pn_dir=wdb_dir_path)\n",
    "            signals_names_list = [\n",
    "                re.sub(r\"[\\s%]\", \"\", item.upper()) for item in fields[\"sig_name\"]\n",
    "            ]\n",
    "\n",
    "            signals_exist = all(\n",
    "                x in signals_names_list\n",
    "                for x in required_signals_list\n",
    "            )\n",
    "\n",
    "            if signals_exist:\n",
    "                indexes_dict = {}\n",
    "                for item in required_signals_list:\n",
    "                    indexes_dict[item.lower()] = get_signal_index(item, signals_names_list)\n",
    "                \n",
    "                record_start_time = datetime.datetime.combine(\n",
    "                        fields[\"base_date\"], fields[\"base_time\"]\n",
    "                    )\n",
    "\n",
    "                if \"%.3f\" % (fields[\"fs\"]) == \"1.000\":\n",
    "                    record_end_time = record_start_time + datetime.timedelta(\n",
    "                        seconds=(fields[\"sig_len\"] - 1)\n",
    "                        )\n",
    "                elif \"%.3f\" % (fields[\"fs\"]) == \"0.017\":\n",
    "                    record_end_time = record_start_time + datetime.timedelta(\n",
    "                        minutes=(fields[\"sig_len\"] - 1)\n",
    "                        )\n",
    "                else:\n",
    "                    print(\"ERROR IN SAMPLING\")\n",
    "                \n",
    "\n",
    "                # Caculate if we have a recording for the time of icu stay\n",
    "\n",
    "                time_range_icustay = (\n",
    "                    datetime.datetime.strptime(str(row[\"intime\"]), \"%Y-%m-%d %H:%M:%S\"),\n",
    "                    datetime.datetime.strptime(str(row[\"outtime\"]), \"%Y-%m-%d %H:%M:%S\"),\n",
    "                )\n",
    "                \n",
    "                time_range_record = (record_start_time, record_end_time)\n",
    "\n",
    "                latest_start = max(time_range_icustay[0], time_range_record[0])\n",
    "                earliest_end = min(time_range_icustay[0], time_range_record[0])\n",
    "                print(earliest_end)\n",
    "                print(latest_start)\n",
    "                print(\"---\")\n",
    "                delta_earliest_end_latest_start = (\n",
    "                    earliest_end - latest_start\n",
    "                ).days\n",
    "                \n",
    "                print(delta_earliest_end_latest_start)\n",
    "\n",
    "                if delta_earliest_end_latest_start >= 0:\n",
    "                    print(indexes_list.values())\n",
    "                    input()\n",
    "                    nparray_subset = signals[:, indexes_list.values()]\n",
    "                    np_missing_values = np.count_nonzero(~np.isnan(nparray_subset))\n",
    "                    print(np_missing_values)"
   ]
  },
  {
   "cell_type": "code",
   "execution_count": 14,
   "id": "735efbd7",
   "metadata": {},
   "outputs": [],
   "source": [
    "def get_signal_index(signal: str, signal_names: [str]):\n",
    "    return signal_names.index(signal)"
   ]
  },
  {
   "cell_type": "code",
   "execution_count": null,
   "id": "adf9adad",
   "metadata": {},
   "outputs": [],
   "source": []
  }
 ],
 "metadata": {
  "kernelspec": {
   "display_name": "Python 3",
   "language": "python",
   "name": "python3"
  },
  "language_info": {
   "codemirror_mode": {
    "name": "ipython",
    "version": 3
   },
   "file_extension": ".py",
   "mimetype": "text/x-python",
   "name": "python",
   "nbconvert_exporter": "python",
   "pygments_lexer": "ipython3",
   "version": "3.8.7"
  }
 },
 "nbformat": 4,
 "nbformat_minor": 5
}
