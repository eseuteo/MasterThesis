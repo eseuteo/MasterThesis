{
 "cells": [
  {
   "cell_type": "code",
   "execution_count": 28,
   "id": "c4d02dde",
   "metadata": {},
   "outputs": [],
   "source": [
    "import pandas as pd\n",
    "import numpy as np\n",
    "\n",
    "import psycopg2\n",
    "import os\n",
    "import wfdb\n",
    "import urllib.request\n",
    "from datetime import datetime"
   ]
  },
  {
   "cell_type": "code",
   "execution_count": 2,
   "id": "3955b004",
   "metadata": {},
   "outputs": [],
   "source": [
    "connection = psycopg2.connect(database=\"mimic\", user=os.environ[\"USERNAME\"])\n",
    "cursor = connection.cursor()\n",
    "cursor.execute(\"set search_path to mimiciii\")"
   ]
  },
  {
   "cell_type": "code",
   "execution_count": 7,
   "id": "4de85cad",
   "metadata": {},
   "outputs": [],
   "source": [
    "query_waveform_exists = \"\"\"SELECT  *\n",
    "    FROM sepsis3_cohort coh \n",
    "    WHERE coh.waveform_exists = 1\"\"\"\n",
    "df_waveform_exists = pd.read_sql(query_waveform_exists, connection)"
   ]
  },
  {
   "cell_type": "code",
   "execution_count": 29,
   "id": "8ba32ea1",
   "metadata": {},
   "outputs": [],
   "source": [
    "signals_exist_array = np.empty(len(df_waveform_exists.index), dtype=str)\n",
    "time_overlap_array = np.zeros(len(df_waveform_exists.index), dtype=bool)\n",
    "number_of_overlapping_records = np.zeros(len(df_waveform_exists.index), dtype=np.int32)"
   ]
  },
  {
   "cell_type": "code",
   "execution_count": null,
   "id": "cd9abb5f",
   "metadata": {},
   "outputs": [
    {
     "name": "stdout",
     "output_type": "stream",
     "text": [
      "Error occurred while reading waveform: p086831-2130-12-29-18-28n\n"
     ]
    }
   ],
   "source": [
    "for index, row in df_waveform_exists.iterrows():\n",
    "    current_user_id = str(row.subject_id).zfill(6)\n",
    "    wdb_base_path = \"https://physionet.org/files/\"\n",
    "    wdb_dir_path = f\"mimic3wdb-matched/1.0/p{current_user_id[:2]}/p{current_user_id}/\"\n",
    "\n",
    "    wdb_records = urllib.request.urlopen(wdb_base_path + wdb_dir_path + \"RECORDS\")\n",
    "\n",
    "    count_overlapping_records = 0\n",
    "\n",
    "    for line in wdb_records.readlines():\n",
    "        record = line.decode(\"utf-8\")\n",
    "        record = str(record).rstrip()\n",
    "        if record[-1] == \"n\":\n",
    "            try:\n",
    "                signals, fields = wfdb.rdsamp(record, pn_dir=wdb_dir_path)\n",
    "                signals_names_list = [item.upper() for item in fields[\"sig_name\"]]\n",
    "\n",
    "                signals_exist = all(\n",
    "                    x in signals_names_list\n",
    "                    for x in [\"HR\", \"ABPSYS\", \"ABPDIAS\", \"ABPMEAN\", \"RESP\"]\n",
    "                )\n",
    "                signals_exist = signals_exist and any(\n",
    "                    x in signals_names_list for x in [\"%SPO2\", \"SPO2\"]\n",
    "                )\n",
    "\n",
    "                if signals_exist:\n",
    "                    signals_exist_array[index] = 1\n",
    "                    record_start_time = datetime.combine(\n",
    "                        fields[\"base_date\"], fields[\"base_time\"]\n",
    "                    )\n",
    "\n",
    "                    if \"%.3f\" % (fields[\"fs\"]) == \"1.000\":\n",
    "                        record_end_time = record_start_time + datetime.timedelta(\n",
    "                            seconds=(fields[\"sig_len\"] - 1)\n",
    "                        )\n",
    "                    elif \"%.3f\" % (fields[\"fs\"]) == \"0.017\":\n",
    "                        record_end_time = record_start_time + datetime.timedelta(\n",
    "                            minutes=(fields[\"sig_len\"] - 1)\n",
    "                        )\n",
    "                    else:\n",
    "                        print(\"ERROR IN SAMPLING\")\n",
    "                    print(record)\n",
    "                    print(wdb_dir_path)\n",
    "\n",
    "                    # Caculate if we have a recording for the time of icu stay\n",
    "\n",
    "                    time_range_icustay = (\n",
    "                        datetime.strptime(row[\"intime\"], \"%Y-%m-%d %H:%M:%S\"),\n",
    "                        datetime.strptime(row[\"outtime\"], \"%Y-%m-%d %H:%M:%S\"),\n",
    "                    )\n",
    "                    time_range_record = (record_start_time, record_end_time)\n",
    "\n",
    "                    latest_start = max(time_range_icustay[0], time_range_record[0])\n",
    "                    earliest_end = min(time_range_icustay[0], time_range_record[0])\n",
    "                    delta_earliest_end_latest_start = (\n",
    "                        earliest_end - latest_start\n",
    "                    ).days + 1\n",
    "\n",
    "                    if delta >= 0:\n",
    "                        time_overlap_array[index] = 1\n",
    "                        count_overlapping_records += 1\n",
    "                        # todo : adding new dataframe, exatracting required signals, computing avergage for per sminute values in case of per second sampling frequency\n",
    "            except ValueError:\n",
    "                print(f\"Error occurred while reading waveform: {record}\")\n",
    "    number_of_overlapping_records[index] = count_overlapping_records"
   ]
  },
  {
   "cell_type": "code",
   "execution_count": 18,
   "id": "1bf06041",
   "metadata": {},
   "outputs": [],
   "source": [
    "def read_record(record: str, wdb_dir_path: str):\n",
    "    signals_in_physiobank = []\n",
    "    try:\n",
    "        signals, fields = wfdb.rdsamp(record, pn_dir=wdb_dir_path)\n",
    "        for i in fields[\"sig_name\"]:\n",
    "            signals_in_physiobank.append(i)\n",
    "    except ValueError:\n",
    "        print(f\"Error occurred while reading waveform: {record}\")\n",
    "    return signals_in_physiobank"
   ]
  },
  {
   "cell_type": "code",
   "execution_count": null,
   "id": "9f71999a",
   "metadata": {},
   "outputs": [],
   "source": []
  }
 ],
 "metadata": {
  "kernelspec": {
   "display_name": "Python 3",
   "language": "python",
   "name": "python3"
  },
  "language_info": {
   "codemirror_mode": {
    "name": "ipython",
    "version": 3
   },
   "file_extension": ".py",
   "mimetype": "text/x-python",
   "name": "python",
   "nbconvert_exporter": "python",
   "pygments_lexer": "ipython3",
   "version": "3.8.7"
  }
 },
 "nbformat": 4,
 "nbformat_minor": 5
}
