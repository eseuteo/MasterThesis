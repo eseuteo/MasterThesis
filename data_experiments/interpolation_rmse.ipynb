{
 "cells": [
  {
   "cell_type": "code",
   "execution_count": 1,
   "id": "6ae0466f",
   "metadata": {},
   "outputs": [],
   "source": [
    "from sklearn.metrics import mean_squared_error\n",
    "import pandas as pd\n",
    "import random"
   ]
  },
  {
   "cell_type": "code",
   "execution_count": 8,
   "id": "207411d1",
   "metadata": {},
   "outputs": [],
   "source": [
    "random.seed(0)\n",
    "\n",
    "with open(\"missing_values_signals_69435.csv\", \"w\") as f:\n",
    "    with open(\"signals_69435.csv\") as infile:\n",
    "        for line in infile:\n",
    "            if random.random() > 0.2:\n",
    "                f.write(line)"
   ]
  },
  {
   "cell_type": "code",
   "execution_count": 2,
   "id": "4a2f6de5",
   "metadata": {},
   "outputs": [],
   "source": [
    "df_original = pd.read_csv(\"signals_69435.csv\", header=None, names=[\"time\", \"HR\", \"ABPSys\", \"ABPDias\", \"ABPMean\", \"RESP\", \"SpO2\"])\n",
    "df_original = df_original[[\"time\", \"RESP\"]]"
   ]
  },
  {
   "cell_type": "code",
   "execution_count": 3,
   "id": "627a5ccd",
   "metadata": {},
   "outputs": [],
   "source": [
    "df_linear = pd.read_csv(\"interpolation_linear.csv\", header=None, names=[\"time\", \"label\", \"RESP\"])\n",
    "df_linear = df_linear[[\"time\", \"RESP\"]]\n",
    "df_spline = pd.read_csv(\"interpolation_spline.csv\", header=None, names=[\"time\", \"label\", \"RESP\"])\n",
    "df_spline = df_spline[[\"time\", \"RESP\"]]\n",
    "df_locf = pd.read_csv(\"interpolation_locf.csv\", header=None, names=[\"time\", \"label\", \"RESP\"])\n",
    "df_locf = df_locf[[\"time\", \"RESP\"]]\n",
    "df_nocb = pd.read_csv(\"interpolation_nocb.csv\", header=None, names=[\"time\", \"label\", \"RESP\"])\n",
    "df_nocb = df_nocb[[\"time\", \"RESP\"]]"
   ]
  },
  {
   "cell_type": "code",
   "execution_count": 4,
   "id": "8c2696cc",
   "metadata": {},
   "outputs": [],
   "source": [
    "df_linear.drop(index=[0,1,2,3,4167,4168,4169,4170], inplace=True)\n",
    "df_spline.drop(index=[0,1,2,3,4167,4168,4169,4170], inplace=True)\n",
    "df_locf.drop(index=[0,1,2,3,4167,4168,4169,4170], inplace=True)\n",
    "df_nocb.drop(index=[0,1,2,3,4167,4168,4169,4170], inplace=True)"
   ]
  },
  {
   "cell_type": "code",
   "execution_count": 5,
   "id": "18bcb556",
   "metadata": {},
   "outputs": [
    {
     "data": {
      "text/html": [
       "<div>\n",
       "<style scoped>\n",
       "    .dataframe tbody tr th:only-of-type {\n",
       "        vertical-align: middle;\n",
       "    }\n",
       "\n",
       "    .dataframe tbody tr th {\n",
       "        vertical-align: top;\n",
       "    }\n",
       "\n",
       "    .dataframe thead th {\n",
       "        text-align: right;\n",
       "    }\n",
       "</style>\n",
       "<table border=\"1\" class=\"dataframe\">\n",
       "  <thead>\n",
       "    <tr style=\"text-align: right;\">\n",
       "      <th></th>\n",
       "      <th>time</th>\n",
       "      <th>RESP</th>\n",
       "    </tr>\n",
       "  </thead>\n",
       "  <tbody>\n",
       "    <tr>\n",
       "      <th>0</th>\n",
       "      <td>15:27:56 20/09/2108</td>\n",
       "      <td>0.0</td>\n",
       "    </tr>\n",
       "    <tr>\n",
       "      <th>1</th>\n",
       "      <td>15:28:56 20/09/2108</td>\n",
       "      <td>0.0</td>\n",
       "    </tr>\n",
       "    <tr>\n",
       "      <th>2</th>\n",
       "      <td>15:29:56 20/09/2108</td>\n",
       "      <td>0.0</td>\n",
       "    </tr>\n",
       "    <tr>\n",
       "      <th>3</th>\n",
       "      <td>15:30:56 20/09/2108</td>\n",
       "      <td>0.0</td>\n",
       "    </tr>\n",
       "    <tr>\n",
       "      <th>4</th>\n",
       "      <td>15:31:56 20/09/2108</td>\n",
       "      <td>0.0</td>\n",
       "    </tr>\n",
       "    <tr>\n",
       "      <th>...</th>\n",
       "      <td>...</td>\n",
       "      <td>...</td>\n",
       "    </tr>\n",
       "    <tr>\n",
       "      <th>4158</th>\n",
       "      <td>12:45:56 23/09/2108</td>\n",
       "      <td>0.0</td>\n",
       "    </tr>\n",
       "    <tr>\n",
       "      <th>4159</th>\n",
       "      <td>12:46:56 23/09/2108</td>\n",
       "      <td>0.0</td>\n",
       "    </tr>\n",
       "    <tr>\n",
       "      <th>4160</th>\n",
       "      <td>12:47:56 23/09/2108</td>\n",
       "      <td>0.0</td>\n",
       "    </tr>\n",
       "    <tr>\n",
       "      <th>4161</th>\n",
       "      <td>12:48:56 23/09/2108</td>\n",
       "      <td>0.0</td>\n",
       "    </tr>\n",
       "    <tr>\n",
       "      <th>4162</th>\n",
       "      <td>12:49:56 23/09/2108</td>\n",
       "      <td>0.0</td>\n",
       "    </tr>\n",
       "  </tbody>\n",
       "</table>\n",
       "<p>4163 rows × 2 columns</p>\n",
       "</div>"
      ],
      "text/plain": [
       "                     time  RESP\n",
       "0     15:27:56 20/09/2108   0.0\n",
       "1     15:28:56 20/09/2108   0.0\n",
       "2     15:29:56 20/09/2108   0.0\n",
       "3     15:30:56 20/09/2108   0.0\n",
       "4     15:31:56 20/09/2108   0.0\n",
       "...                   ...   ...\n",
       "4158  12:45:56 23/09/2108   0.0\n",
       "4159  12:46:56 23/09/2108   0.0\n",
       "4160  12:47:56 23/09/2108   0.0\n",
       "4161  12:48:56 23/09/2108   0.0\n",
       "4162  12:49:56 23/09/2108   0.0\n",
       "\n",
       "[4163 rows x 2 columns]"
      ]
     },
     "execution_count": 5,
     "metadata": {},
     "output_type": "execute_result"
    }
   ],
   "source": [
    "df_original"
   ]
  },
  {
   "cell_type": "code",
   "execution_count": 5,
   "id": "f6f21967",
   "metadata": {},
   "outputs": [],
   "source": [
    "mse_linear = mean_squared_error(df_original[\"RESP\"], df_linear[\"RESP\"], squared=False)\n",
    "mse_spline = mean_squared_error(df_original[\"RESP\"], df_spline[\"RESP\"], squared=False)\n",
    "mse_locf = mean_squared_error(df_original[\"RESP\"], df_locf[\"RESP\"], squared=False)\n",
    "mse_nocb = mean_squared_error(df_original[\"RESP\"], df_nocb[\"RESP\"], squared=False)"
   ]
  },
  {
   "cell_type": "code",
   "execution_count": 6,
   "id": "f865e168",
   "metadata": {},
   "outputs": [
    {
     "name": "stdout",
     "output_type": "stream",
     "text": [
      "0.6686093303817817\n",
      "0.8001621596231201\n",
      "0.7978766882322134\n",
      "0.8469514168822446\n"
     ]
    }
   ],
   "source": [
    "print(mse_linear)\n",
    "print(mse_spline)\n",
    "print(mse_locf)\n",
    "print(mse_nocb)"
   ]
  },
  {
   "cell_type": "code",
   "execution_count": 25,
   "id": "cd1f0cb0",
   "metadata": {},
   "outputs": [
    {
     "data": {
      "text/plain": [
       "4       0.000000\n",
       "5       0.000000\n",
       "6       0.000000\n",
       "7       0.000000\n",
       "8       0.000000\n",
       "         ...    \n",
       "188     0.000000\n",
       "189    11.774774\n",
       "190    12.566446\n",
       "191    13.358119\n",
       "192    14.149791\n",
       "Name: RESP, Length: 189, dtype: float64"
      ]
     },
     "execution_count": 25,
     "metadata": {},
     "output_type": "execute_result"
    }
   ],
   "source": [
    "df_locf[\"RESP\"].head(189)"
   ]
  },
  {
   "cell_type": "code",
   "execution_count": 26,
   "id": "b324c376",
   "metadata": {},
   "outputs": [
    {
     "data": {
      "text/plain": [
       "4       0.000000\n",
       "5       0.000000\n",
       "6       0.000000\n",
       "7       0.000000\n",
       "8       0.000000\n",
       "         ...    \n",
       "188     0.000000\n",
       "189    11.774774\n",
       "190    12.566446\n",
       "191    13.358119\n",
       "192    14.149791\n",
       "Name: RESP, Length: 189, dtype: float64"
      ]
     },
     "execution_count": 26,
     "metadata": {},
     "output_type": "execute_result"
    }
   ],
   "source": [
    "df_linear[\"RESP\"].head(189)"
   ]
  },
  {
   "cell_type": "code",
   "execution_count": null,
   "id": "ed307185",
   "metadata": {},
   "outputs": [],
   "source": []
  }
 ],
 "metadata": {
  "kernelspec": {
   "display_name": "Python 3",
   "language": "python",
   "name": "python3"
  },
  "language_info": {
   "codemirror_mode": {
    "name": "ipython",
    "version": 3
   },
   "file_extension": ".py",
   "mimetype": "text/x-python",
   "name": "python",
   "nbconvert_exporter": "python",
   "pygments_lexer": "ipython3",
   "version": "3.8.5"
  }
 },
 "nbformat": 4,
 "nbformat_minor": 5
}
