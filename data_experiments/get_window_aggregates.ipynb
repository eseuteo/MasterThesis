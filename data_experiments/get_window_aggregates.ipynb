{
 "cells": [
  {
   "cell_type": "code",
   "execution_count": 1,
   "id": "c89cc3e9",
   "metadata": {},
   "outputs": [
    {
     "data": {
      "application/javascript": [
       "\n",
       "            setTimeout(function() {\n",
       "                var nbb_cell_id = 1;\n",
       "                var nbb_unformatted_code = \"import pandas as pd\\nfrom datetime import datetime, timedelta\\n\\n%load_ext nb_black\";\n",
       "                var nbb_formatted_code = \"import pandas as pd\\nfrom datetime import datetime, timedelta\\n\\n%load_ext nb_black\";\n",
       "                var nbb_cells = Jupyter.notebook.get_cells();\n",
       "                for (var i = 0; i < nbb_cells.length; ++i) {\n",
       "                    if (nbb_cells[i].input_prompt_number == nbb_cell_id) {\n",
       "                        if (nbb_cells[i].get_text() == nbb_unformatted_code) {\n",
       "                             nbb_cells[i].set_text(nbb_formatted_code);\n",
       "                        }\n",
       "                        break;\n",
       "                    }\n",
       "                }\n",
       "            }, 500);\n",
       "            "
      ],
      "text/plain": [
       "<IPython.core.display.Javascript object>"
      ]
     },
     "metadata": {},
     "output_type": "display_data"
    }
   ],
   "source": [
    "import pandas as pd\n",
    "from datetime import datetime, timedelta\n",
    "\n",
    "%load_ext nb_black"
   ]
  },
  {
   "cell_type": "code",
   "execution_count": 2,
   "id": "af56f1ba",
   "metadata": {},
   "outputs": [
    {
     "data": {
      "application/javascript": [
       "\n",
       "            setTimeout(function() {\n",
       "                var nbb_cell_id = 2;\n",
       "                var nbb_unformatted_code = \"df_original = pd.read_csv(\\\"signals_69435.csv\\\", header=None, names=[\\\"time\\\", \\\"HR\\\", \\\"ABPSys\\\", \\\"ABPDias\\\", \\\"ABPMean\\\", \\\"RESP\\\", \\\"SpO2\\\"])\";\n",
       "                var nbb_formatted_code = \"df_original = pd.read_csv(\\n    \\\"signals_69435.csv\\\",\\n    header=None,\\n    names=[\\\"time\\\", \\\"HR\\\", \\\"ABPSys\\\", \\\"ABPDias\\\", \\\"ABPMean\\\", \\\"RESP\\\", \\\"SpO2\\\"],\\n)\";\n",
       "                var nbb_cells = Jupyter.notebook.get_cells();\n",
       "                for (var i = 0; i < nbb_cells.length; ++i) {\n",
       "                    if (nbb_cells[i].input_prompt_number == nbb_cell_id) {\n",
       "                        if (nbb_cells[i].get_text() == nbb_unformatted_code) {\n",
       "                             nbb_cells[i].set_text(nbb_formatted_code);\n",
       "                        }\n",
       "                        break;\n",
       "                    }\n",
       "                }\n",
       "            }, 500);\n",
       "            "
      ],
      "text/plain": [
       "<IPython.core.display.Javascript object>"
      ]
     },
     "metadata": {},
     "output_type": "display_data"
    }
   ],
   "source": [
    "df_original = pd.read_csv(\n",
    "    \"signals_69435.csv\",\n",
    "    header=None,\n",
    "    names=[\"time\", \"HR\", \"ABPSys\", \"ABPDias\", \"ABPMean\", \"RESP\", \"SpO2\"],\n",
    ")"
   ]
  },
  {
   "cell_type": "code",
   "execution_count": 3,
   "id": "0c0c583f",
   "metadata": {},
   "outputs": [
    {
     "data": {
      "application/javascript": [
       "\n",
       "            setTimeout(function() {\n",
       "                var nbb_cell_id = 3;\n",
       "                var nbb_unformatted_code = \"df_original[\\\"timestamp\\\"] = df_original[\\\"time\\\"].apply(\\n    lambda x: datetime.strptime(x, \\\"%H:%M:%S %d/%m/%Y\\\").timestamp()\\n)\";\n",
       "                var nbb_formatted_code = \"df_original[\\\"timestamp\\\"] = df_original[\\\"time\\\"].apply(\\n    lambda x: datetime.strptime(x, \\\"%H:%M:%S %d/%m/%Y\\\").timestamp()\\n)\";\n",
       "                var nbb_cells = Jupyter.notebook.get_cells();\n",
       "                for (var i = 0; i < nbb_cells.length; ++i) {\n",
       "                    if (nbb_cells[i].input_prompt_number == nbb_cell_id) {\n",
       "                        if (nbb_cells[i].get_text() == nbb_unformatted_code) {\n",
       "                             nbb_cells[i].set_text(nbb_formatted_code);\n",
       "                        }\n",
       "                        break;\n",
       "                    }\n",
       "                }\n",
       "            }, 500);\n",
       "            "
      ],
      "text/plain": [
       "<IPython.core.display.Javascript object>"
      ]
     },
     "metadata": {},
     "output_type": "display_data"
    }
   ],
   "source": [
    "df_original[\"timestamp\"] = df_original[\"time\"].apply(\n",
    "    lambda x: datetime.strptime(x, \"%H:%M:%S %d/%m/%Y\").timestamp()\n",
    ")"
   ]
  },
  {
   "cell_type": "code",
   "execution_count": 4,
   "id": "be77c7e2",
   "metadata": {},
   "outputs": [
    {
     "data": {
      "application/javascript": [
       "\n",
       "            setTimeout(function() {\n",
       "                var nbb_cell_id = 4;\n",
       "                var nbb_unformatted_code = \"df_original[\\\"time\\\"] = df_original[\\\"time\\\"].apply(\\n    lambda x: datetime.strptime(x, \\\"%H:%M:%S %d/%m/%Y\\\")\\n)\";\n",
       "                var nbb_formatted_code = \"df_original[\\\"time\\\"] = df_original[\\\"time\\\"].apply(\\n    lambda x: datetime.strptime(x, \\\"%H:%M:%S %d/%m/%Y\\\")\\n)\";\n",
       "                var nbb_cells = Jupyter.notebook.get_cells();\n",
       "                for (var i = 0; i < nbb_cells.length; ++i) {\n",
       "                    if (nbb_cells[i].input_prompt_number == nbb_cell_id) {\n",
       "                        if (nbb_cells[i].get_text() == nbb_unformatted_code) {\n",
       "                             nbb_cells[i].set_text(nbb_formatted_code);\n",
       "                        }\n",
       "                        break;\n",
       "                    }\n",
       "                }\n",
       "            }, 500);\n",
       "            "
      ],
      "text/plain": [
       "<IPython.core.display.Javascript object>"
      ]
     },
     "metadata": {},
     "output_type": "display_data"
    }
   ],
   "source": [
    "df_original[\"time\"] = df_original[\"time\"].apply(\n",
    "    lambda x: datetime.strptime(x, \"%H:%M:%S %d/%m/%Y\")\n",
    ")"
   ]
  },
  {
   "cell_type": "code",
   "execution_count": 5,
   "id": "cb1fd383",
   "metadata": {},
   "outputs": [
    {
     "data": {
      "application/javascript": [
       "\n",
       "            setTimeout(function() {\n",
       "                var nbb_cell_id = 5;\n",
       "                var nbb_unformatted_code = \"df_original.set_index(\\\"time\\\", inplace=True)\";\n",
       "                var nbb_formatted_code = \"df_original.set_index(\\\"time\\\", inplace=True)\";\n",
       "                var nbb_cells = Jupyter.notebook.get_cells();\n",
       "                for (var i = 0; i < nbb_cells.length; ++i) {\n",
       "                    if (nbb_cells[i].input_prompt_number == nbb_cell_id) {\n",
       "                        if (nbb_cells[i].get_text() == nbb_unformatted_code) {\n",
       "                             nbb_cells[i].set_text(nbb_formatted_code);\n",
       "                        }\n",
       "                        break;\n",
       "                    }\n",
       "                }\n",
       "            }, 500);\n",
       "            "
      ],
      "text/plain": [
       "<IPython.core.display.Javascript object>"
      ]
     },
     "metadata": {},
     "output_type": "display_data"
    }
   ],
   "source": [
    "df_original.set_index(\"time\", inplace=True)"
   ]
  },
  {
   "cell_type": "code",
   "execution_count": 19,
   "id": "b18f40af",
   "metadata": {},
   "outputs": [
    {
     "data": {
      "application/javascript": [
       "\n",
       "            setTimeout(function() {\n",
       "                var nbb_cell_id = 19;\n",
       "                var nbb_unformatted_code = \"with open(\\\"expected_aggregation.csv\\\", \\\"w\\\") as f:\\n    for item in df_original.rolling(\\\"10T\\\"):\\n        mean = item[\\\"RESP\\\"].mean()\\n        std = item[\\\"RESP\\\"].std()\\n        min_value = item[\\\"RESP\\\"].min()\\n        max_value = item[\\\"RESP\\\"].max()\\n        timestamp = int(item[\\\"timestamp\\\"][-1]*1000)\\n        f.write(f\\\"({timestamp},{mean},{std},{min_value},{max_value})\\\\n\\\")\\n    \";\n",
       "                var nbb_formatted_code = \"with open(\\\"expected_aggregation.csv\\\", \\\"w\\\") as f:\\n    for item in df_original.rolling(\\\"10T\\\"):\\n        mean = item[\\\"RESP\\\"].mean()\\n        std = item[\\\"RESP\\\"].std()\\n        min_value = item[\\\"RESP\\\"].min()\\n        max_value = item[\\\"RESP\\\"].max()\\n        timestamp = int(item[\\\"timestamp\\\"][-1] * 1000)\\n        f.write(f\\\"({timestamp},{mean},{std},{min_value},{max_value})\\\\n\\\")\";\n",
       "                var nbb_cells = Jupyter.notebook.get_cells();\n",
       "                for (var i = 0; i < nbb_cells.length; ++i) {\n",
       "                    if (nbb_cells[i].input_prompt_number == nbb_cell_id) {\n",
       "                        if (nbb_cells[i].get_text() == nbb_unformatted_code) {\n",
       "                             nbb_cells[i].set_text(nbb_formatted_code);\n",
       "                        }\n",
       "                        break;\n",
       "                    }\n",
       "                }\n",
       "            }, 500);\n",
       "            "
      ],
      "text/plain": [
       "<IPython.core.display.Javascript object>"
      ]
     },
     "metadata": {},
     "output_type": "display_data"
    }
   ],
   "source": [
    "with open(\"expected_aggregation.csv\", \"w\") as f:\n",
    "    for item in df_original.rolling(\"10T\"):\n",
    "        mean = item[\"RESP\"].mean()\n",
    "        std = item[\"RESP\"].std()\n",
    "        min_value = item[\"RESP\"].min()\n",
    "        max_value = item[\"RESP\"].max()\n",
    "        timestamp = int(item[\"timestamp\"][-1]*1000)\n",
    "        f.write(f\"({timestamp},{mean},{std},{min_value},{max_value})\\n\")\n",
    "    \n"
   ]
  },
  {
   "cell_type": "code",
   "execution_count": null,
   "id": "278766da",
   "metadata": {},
   "outputs": [],
   "source": []
  }
 ],
 "metadata": {
  "kernelspec": {
   "display_name": "Python 3",
   "language": "python",
   "name": "python3"
  },
  "language_info": {
   "codemirror_mode": {
    "name": "ipython",
    "version": 3
   },
   "file_extension": ".py",
   "mimetype": "text/x-python",
   "name": "python",
   "nbconvert_exporter": "python",
   "pygments_lexer": "ipython3",
   "version": "3.8.5"
  }
 },
 "nbformat": 4,
 "nbformat_minor": 5
}
