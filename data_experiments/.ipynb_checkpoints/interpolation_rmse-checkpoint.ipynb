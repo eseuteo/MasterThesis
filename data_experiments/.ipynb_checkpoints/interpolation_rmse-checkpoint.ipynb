{
 "cells": [
  {
   "cell_type": "code",
   "execution_count": 20,
   "id": "6ae0466f",
   "metadata": {},
   "outputs": [
    {
     "data": {
      "application/javascript": [
       "\n",
       "            setTimeout(function() {\n",
       "                var nbb_cell_id = 20;\n",
       "                var nbb_unformatted_code = \"from sklearn.metrics import mean_squared_error\\nimport pandas as pd\\nimport random\\n\\n%load_ext nb_black\";\n",
       "                var nbb_formatted_code = \"from sklearn.metrics import mean_squared_error\\nimport pandas as pd\\nimport random\\n\\n%load_ext nb_black\";\n",
       "                var nbb_cells = Jupyter.notebook.get_cells();\n",
       "                for (var i = 0; i < nbb_cells.length; ++i) {\n",
       "                    if (nbb_cells[i].input_prompt_number == nbb_cell_id) {\n",
       "                        if (nbb_cells[i].get_text() == nbb_unformatted_code) {\n",
       "                             nbb_cells[i].set_text(nbb_formatted_code);\n",
       "                        }\n",
       "                        break;\n",
       "                    }\n",
       "                }\n",
       "            }, 500);\n",
       "            "
      ],
      "text/plain": [
       "<IPython.core.display.Javascript object>"
      ]
     },
     "metadata": {},
     "output_type": "display_data"
    }
   ],
   "source": [
    "from sklearn.metrics import mean_squared_error\n",
    "import pandas as pd\n",
    "import random\n",
    "\n",
    "%load_ext nb_black\n"
   ]
  },
  {
   "cell_type": "code",
   "execution_count": 3,
   "id": "58e597fe",
   "metadata": {},
   "outputs": [],
   "source": [
    "random.seed(0)\n",
    "\n",
    "with open(\"missing_values_signals_69435_10.csv\", \"w\") as f:\n",
    "    with open(\"signals_69435.csv\") as infile:\n",
    "        for line in infile:\n",
    "            if random.random() > 0.1:\n",
    "                f.write(line)"
   ]
  },
  {
   "cell_type": "code",
   "execution_count": 4,
   "id": "207411d1",
   "metadata": {},
   "outputs": [],
   "source": [
    "random.seed(0)\n",
    "\n",
    "with open(\"missing_values_signals_69435_20.csv\", \"w\") as f:\n",
    "    with open(\"signals_69435.csv\") as infile:\n",
    "        for line in infile:\n",
    "            if random.random() > 0.2:\n",
    "                f.write(line)"
   ]
  },
  {
   "cell_type": "code",
   "execution_count": 5,
   "id": "beddfc7b",
   "metadata": {},
   "outputs": [],
   "source": [
    "random.seed(0)\n",
    "\n",
    "with open(\"missing_values_signals_69435_40.csv\", \"w\") as f:\n",
    "    with open(\"signals_69435.csv\") as infile:\n",
    "        for line in infile:\n",
    "            if random.random() > 0.4:\n",
    "                f.write(line)"
   ]
  },
  {
   "cell_type": "code",
   "execution_count": 10,
   "id": "4a2f6de5",
   "metadata": {},
   "outputs": [],
   "source": [
    "df_original = pd.read_csv(\"signals_69435.csv\", header=None, names=[\"time\", \"HR\", \"ABPSys\", \"ABPDias\", \"ABPMean\", \"RESP\", \"SpO2\"])\n",
    "df_original = df_original[[\"time\", \"RESP\"]]"
   ]
  },
  {
   "cell_type": "code",
   "execution_count": 11,
   "id": "627a5ccd",
   "metadata": {},
   "outputs": [],
   "source": [
    "df_linear_10 = pd.read_csv(\"interpolation_linear_10.csv\", header=None, names=[\"time\", \"label\", \"RESP\"], index_col=False)\n",
    "df_linear_20 = pd.read_csv(\"interpolation_linear_20.csv\", header=None, names=[\"time\", \"label\", \"RESP\"], index_col=False)\n",
    "df_linear_40 = pd.read_csv(\"interpolation_linear_40.csv\", header=None, names=[\"time\", \"label\", \"RESP\"], index_col=False)\n",
    "df_linear_10 = df_linear_10[[\"time\", \"RESP\"]]\n",
    "df_linear_20 = df_linear_20[[\"time\", \"RESP\"]]\n",
    "df_linear_40 = df_linear_40[[\"time\", \"RESP\"]]\n",
    "df_spline_10 = pd.read_csv(\"interpolation_spline_10.csv\", header=None, names=[\"time\", \"label\", \"RESP\"], index_col=False)\n",
    "df_spline_20 = pd.read_csv(\"interpolation_spline_20.csv\", header=None, names=[\"time\", \"label\", \"RESP\"], index_col=False)\n",
    "df_spline_40 = pd.read_csv(\"interpolation_spline_40.csv\", header=None, names=[\"time\", \"label\", \"RESP\"], index_col=False)\n",
    "df_spline_10 = df_spline_10[[\"time\", \"RESP\"]]\n",
    "df_spline_20 = df_spline_20[[\"time\", \"RESP\"]]\n",
    "df_spline_40 = df_spline_40[[\"time\", \"RESP\"]]\n",
    "df_locf_10 = pd.read_csv(\"interpolation_locf_10.csv\", header=None, names=[\"time\", \"label\", \"RESP\"], index_col=False)\n",
    "df_locf_20 = pd.read_csv(\"interpolation_locf_20.csv\", header=None, names=[\"time\", \"label\", \"RESP\"], index_col=False)\n",
    "df_locf_40 = pd.read_csv(\"interpolation_locf_40.csv\", header=None, names=[\"time\", \"label\", \"RESP\"], index_col=False)\n",
    "df_locf_10 = df_locf_10[[\"time\", \"RESP\"]]\n",
    "df_locf_20 = df_locf_20[[\"time\", \"RESP\"]]\n",
    "df_locf_40 = df_locf_40[[\"time\", \"RESP\"]]\n",
    "df_nocb_10 = pd.read_csv(\"interpolation_nocb_10.csv\", header=None, names=[\"time\", \"label\", \"RESP\"], index_col=False)\n",
    "df_nocb_20 = pd.read_csv(\"interpolation_nocb_20.csv\", header=None, names=[\"time\", \"label\", \"RESP\"], index_col=False)\n",
    "df_nocb_40 = pd.read_csv(\"interpolation_nocb_40.csv\", header=None, names=[\"time\", \"label\", \"RESP\"], index_col=False)\n",
    "df_nocb_10 = df_nocb_10[[\"time\", \"RESP\"]]\n",
    "df_nocb_20 = df_nocb_20[[\"time\", \"RESP\"]]\n",
    "df_nocb_40 = df_nocb_40[[\"time\", \"RESP\"]]"
   ]
  },
  {
   "cell_type": "code",
   "execution_count": 12,
   "id": "8c2696cc",
   "metadata": {},
   "outputs": [],
   "source": [
    "df_linear_10.drop(index=[0,1,2,3,4167,4168,4169,4170], inplace=True)\n",
    "df_linear_20.drop(index=[0,1,2,3,4167,4168,4169,4170], inplace=True)\n",
    "df_linear_40.drop(index=[0,1,2,3,4167,4168,4169,4170], inplace=True)\n",
    "df_spline_10.drop(index=[0,1,2,3,4167,4168,4169,4170], inplace=True)\n",
    "df_spline_20.drop(index=[0,1,2,3,4167,4168,4169,4170], inplace=True)\n",
    "df_spline_40.drop(index=[0,1,2,3,4167,4168,4169,4170], inplace=True)\n",
    "df_locf_10.drop(index=[0,1,2,3,4167,4168,4169,4170], inplace=True)\n",
    "df_locf_20.drop(index=[0,1,2,3,4167,4168,4169,4170], inplace=True)\n",
    "df_locf_40.drop(index=[0,1,2,3,4167,4168,4169,4170], inplace=True)\n",
    "df_nocb_10.drop(index=[0,1,2,3,4167,4168,4169,4170], inplace=True)\n",
    "df_nocb_20.drop(index=[0,1,2,3,4167,4168,4169,4170], inplace=True)\n",
    "df_nocb_40.drop(index=[0,1,2,3,4167,4168,4169,4170], inplace=True)"
   ]
  },
  {
   "cell_type": "code",
   "execution_count": 5,
   "id": "18bcb556",
   "metadata": {},
   "outputs": [
    {
     "data": {
      "text/html": [
       "<div>\n",
       "<style scoped>\n",
       "    .dataframe tbody tr th:only-of-type {\n",
       "        vertical-align: middle;\n",
       "    }\n",
       "\n",
       "    .dataframe tbody tr th {\n",
       "        vertical-align: top;\n",
       "    }\n",
       "\n",
       "    .dataframe thead th {\n",
       "        text-align: right;\n",
       "    }\n",
       "</style>\n",
       "<table border=\"1\" class=\"dataframe\">\n",
       "  <thead>\n",
       "    <tr style=\"text-align: right;\">\n",
       "      <th></th>\n",
       "      <th>time</th>\n",
       "      <th>RESP</th>\n",
       "    </tr>\n",
       "  </thead>\n",
       "  <tbody>\n",
       "    <tr>\n",
       "      <th>0</th>\n",
       "      <td>15:27:56 20/09/2108</td>\n",
       "      <td>0.0</td>\n",
       "    </tr>\n",
       "    <tr>\n",
       "      <th>1</th>\n",
       "      <td>15:28:56 20/09/2108</td>\n",
       "      <td>0.0</td>\n",
       "    </tr>\n",
       "    <tr>\n",
       "      <th>2</th>\n",
       "      <td>15:29:56 20/09/2108</td>\n",
       "      <td>0.0</td>\n",
       "    </tr>\n",
       "    <tr>\n",
       "      <th>3</th>\n",
       "      <td>15:30:56 20/09/2108</td>\n",
       "      <td>0.0</td>\n",
       "    </tr>\n",
       "    <tr>\n",
       "      <th>4</th>\n",
       "      <td>15:31:56 20/09/2108</td>\n",
       "      <td>0.0</td>\n",
       "    </tr>\n",
       "    <tr>\n",
       "      <th>...</th>\n",
       "      <td>...</td>\n",
       "      <td>...</td>\n",
       "    </tr>\n",
       "    <tr>\n",
       "      <th>4158</th>\n",
       "      <td>12:45:56 23/09/2108</td>\n",
       "      <td>0.0</td>\n",
       "    </tr>\n",
       "    <tr>\n",
       "      <th>4159</th>\n",
       "      <td>12:46:56 23/09/2108</td>\n",
       "      <td>0.0</td>\n",
       "    </tr>\n",
       "    <tr>\n",
       "      <th>4160</th>\n",
       "      <td>12:47:56 23/09/2108</td>\n",
       "      <td>0.0</td>\n",
       "    </tr>\n",
       "    <tr>\n",
       "      <th>4161</th>\n",
       "      <td>12:48:56 23/09/2108</td>\n",
       "      <td>0.0</td>\n",
       "    </tr>\n",
       "    <tr>\n",
       "      <th>4162</th>\n",
       "      <td>12:49:56 23/09/2108</td>\n",
       "      <td>0.0</td>\n",
       "    </tr>\n",
       "  </tbody>\n",
       "</table>\n",
       "<p>4163 rows × 2 columns</p>\n",
       "</div>"
      ],
      "text/plain": [
       "                     time  RESP\n",
       "0     15:27:56 20/09/2108   0.0\n",
       "1     15:28:56 20/09/2108   0.0\n",
       "2     15:29:56 20/09/2108   0.0\n",
       "3     15:30:56 20/09/2108   0.0\n",
       "4     15:31:56 20/09/2108   0.0\n",
       "...                   ...   ...\n",
       "4158  12:45:56 23/09/2108   0.0\n",
       "4159  12:46:56 23/09/2108   0.0\n",
       "4160  12:47:56 23/09/2108   0.0\n",
       "4161  12:48:56 23/09/2108   0.0\n",
       "4162  12:49:56 23/09/2108   0.0\n",
       "\n",
       "[4163 rows x 2 columns]"
      ]
     },
     "execution_count": 5,
     "metadata": {},
     "output_type": "execute_result"
    }
   ],
   "source": [
    "df_original"
   ]
  },
  {
   "cell_type": "code",
   "execution_count": 13,
   "id": "f6f21967",
   "metadata": {},
   "outputs": [],
   "source": [
    "mse_linear_10 = mean_squared_error(df_original[\"RESP\"], df_linear_10[\"RESP\"], squared=False)\n",
    "mse_linear_20 = mean_squared_error(df_original[\"RESP\"], df_linear_20[\"RESP\"], squared=False)\n",
    "mse_linear_40 = mean_squared_error(df_original[\"RESP\"], df_linear_40[\"RESP\"], squared=False)\n",
    "mse_spline_10 = mean_squared_error(df_original[\"RESP\"], df_spline_10[\"RESP\"], squared=False)\n",
    "mse_spline_20 = mean_squared_error(df_original[\"RESP\"], df_spline_20[\"RESP\"], squared=False)\n",
    "mse_spline_40 = mean_squared_error(df_original[\"RESP\"], df_spline_40[\"RESP\"], squared=False)\n",
    "mse_locf_10 = mean_squared_error(df_original[\"RESP\"], df_locf_10[\"RESP\"], squared=False)\n",
    "mse_locf_20 = mean_squared_error(df_original[\"RESP\"], df_locf_20[\"RESP\"], squared=False)\n",
    "mse_locf_40 = mean_squared_error(df_original[\"RESP\"], df_locf_40[\"RESP\"], squared=False)\n",
    "mse_nocb_10 = mean_squared_error(df_original[\"RESP\"], df_nocb_10[\"RESP\"], squared=False)\n",
    "mse_nocb_20 = mean_squared_error(df_original[\"RESP\"], df_nocb_20[\"RESP\"], squared=False)\n",
    "mse_nocb_40 = mean_squared_error(df_original[\"RESP\"], df_nocb_40[\"RESP\"], squared=False)"
   ]
  },
  {
   "cell_type": "code",
   "execution_count": 14,
   "id": "f865e168",
   "metadata": {},
   "outputs": [
    {
     "name": "stdout",
     "output_type": "stream",
     "text": [
      "0.4929198566663836\n",
      "0.6686093303817817\n",
      "1.0099120317341193\n",
      "0.528453493502756\n",
      "0.8001621596231201\n",
      "2.62005247003401\n",
      "0.5683569995313548\n",
      "0.7978766882322134\n",
      "1.564406421324484\n",
      "0.5727238929518256\n",
      "0.8469514168822446\n",
      "2.1282442517218763\n"
     ]
    }
   ],
   "source": [
    "print(mse_linear_10)\n",
    "print(mse_linear_20)\n",
    "print(mse_linear_40)\n",
    "print(mse_spline_10)\n",
    "print(mse_spline_20)\n",
    "print(mse_spline_40)\n",
    "print(mse_locf_10)\n",
    "print(mse_locf_20)\n",
    "print(mse_locf_40)\n",
    "print(mse_nocb_10)\n",
    "print(mse_nocb_20)\n",
    "print(mse_nocb_40)"
   ]
  },
  {
   "cell_type": "code",
   "execution_count": 25,
   "id": "cd1f0cb0",
   "metadata": {},
   "outputs": [
    {
     "data": {
      "text/plain": [
       "4       0.000000\n",
       "5       0.000000\n",
       "6       0.000000\n",
       "7       0.000000\n",
       "8       0.000000\n",
       "         ...    \n",
       "188     0.000000\n",
       "189    11.774774\n",
       "190    12.566446\n",
       "191    13.358119\n",
       "192    14.149791\n",
       "Name: RESP, Length: 189, dtype: float64"
      ]
     },
     "execution_count": 25,
     "metadata": {},
     "output_type": "execute_result"
    }
   ],
   "source": [
    "df_locf[\"RESP\"].head(189)"
   ]
  },
  {
   "cell_type": "code",
   "execution_count": 26,
   "id": "b324c376",
   "metadata": {},
   "outputs": [
    {
     "data": {
      "text/plain": [
       "4       0.000000\n",
       "5       0.000000\n",
       "6       0.000000\n",
       "7       0.000000\n",
       "8       0.000000\n",
       "         ...    \n",
       "188     0.000000\n",
       "189    11.774774\n",
       "190    12.566446\n",
       "191    13.358119\n",
       "192    14.149791\n",
       "Name: RESP, Length: 189, dtype: float64"
      ]
     },
     "execution_count": 26,
     "metadata": {},
     "output_type": "execute_result"
    }
   ],
   "source": [
    "df_linear[\"RESP\"].head(189)"
   ]
  },
  {
   "cell_type": "code",
   "execution_count": 21,
   "id": "ed307185",
   "metadata": {},
   "outputs": [
    {
     "ename": "SyntaxError",
     "evalue": "invalid syntax (<ipython-input-21-c73c1fa97ad9>, line 3)",
     "output_type": "error",
     "traceback": [
      "\u001b[0;36m  File \u001b[0;32m\"<ipython-input-21-c73c1fa97ad9>\"\u001b[0;36m, line \u001b[0;32m3\u001b[0m\n\u001b[0;31m    df = pd.DataFrame([['linear', '10%', mse_linear_10],['spline','10%',mse_spline_10], ['locf', '10%', mse_locf_10], ['nocb', '10%', mse_nocb_10],['linear', '20%', mse_linear_20],['spline','20%',mse_spline_20], ['locf', '20%', mse_locf_20], ['nocb', '20%', mse_nocb_20],['linear', '40%', mse_linear_40],['spline','40%',mse_spline_40], ['locf', '40%', mse_locf_40], ['nocb', '40%', mse_nocb_40],columns=['group','column','val'])\u001b[0m\n\u001b[0m                                                                                                                                                                                                                                                                                                                                                                                                                  ^\u001b[0m\n\u001b[0;31mSyntaxError\u001b[0m\u001b[0;31m:\u001b[0m invalid syntax\n"
     ]
    },
    {
     "name": "stderr",
     "output_type": "stream",
     "text": [
      "ERROR:root:Cannot parse: 3:398: df = pd.DataFrame([['linear', '10%', mse_linear_10],['spline','10%',mse_spline_10], ['locf', '10%', mse_locf_10], ['nocb', '10%', mse_nocb_10],['linear', '20%', mse_linear_20],['spline','20%',mse_spline_20], ['locf', '20%', mse_locf_20], ['nocb', '20%', mse_nocb_20],['linear', '40%', mse_linear_40],['spline','40%',mse_spline_40], ['locf', '40%', mse_locf_40], ['nocb', '40%', mse_nocb_40],columns=['group','column','val'])\n",
      "Traceback (most recent call last):\n",
      "  File \"/home/ricardohb/Documents/Projects/FlinkSequences/venv/lib/python3.8/site-packages/lab_black.py\", line 218, in format_cell\n",
      "    formatted_code = _format_code(cell)\n",
      "  File \"/home/ricardohb/Documents/Projects/FlinkSequences/venv/lib/python3.8/site-packages/lab_black.py\", line 29, in _format_code\n",
      "    return format_str(src_contents=code, mode=FileMode())\n",
      "  File \"/home/ricardohb/Documents/Projects/FlinkSequences/venv/lib/python3.8/site-packages/black/__init__.py\", line 811, in format_str\n",
      "    src_node = lib2to3_parse(src_contents.lstrip(), mode.target_versions)\n",
      "  File \"/home/ricardohb/Documents/Projects/FlinkSequences/venv/lib/python3.8/site-packages/black/parsing.py\", line 96, in lib2to3_parse\n",
      "    raise exc from None\n",
      "black.parsing.InvalidInput: Cannot parse: 3:398: df = pd.DataFrame([['linear', '10%', mse_linear_10],['spline','10%',mse_spline_10], ['locf', '10%', mse_locf_10], ['nocb', '10%', mse_nocb_10],['linear', '20%', mse_linear_20],['spline','20%',mse_spline_20], ['locf', '20%', mse_locf_20], ['nocb', '20%', mse_nocb_20],['linear', '40%', mse_linear_40],['spline','40%',mse_spline_40], ['locf', '40%', mse_locf_40], ['nocb', '40%', mse_nocb_40],columns=['group','column','val'])\n"
     ]
    }
   ],
   "source": [
    "import matplotlib.pyplot as plt\n",
    "import numpy as np\n",
    "df = pd.DataFrame([['linear', '10%', mse_linear_10],['spline','10%',mse_spline_10], ['locf', '10%', mse_locf_10], ['nocb', '10%', mse_nocb_10],['linear', '20%', mse_linear_20],['spline','20%',mse_spline_20], ['locf', '20%', mse_locf_20], ['nocb', '20%', mse_nocb_20],['linear', '40%', mse_linear_40],['spline','40%',mse_spline_40], ['locf', '40%', mse_locf_40], ['nocb', '40%', mse_nocb_40],columns=['group','column','val'])\n",
    "df.pivot(\"column\", \"group\", \"val\").plot(kind='bar')\n"
   ]
  },
  {
   "cell_type": "code",
   "execution_count": 18,
   "id": "f15fbd7e",
   "metadata": {},
   "outputs": [
    {
     "data": {
      "text/plain": [
       "[0.4929198566663836, 0.528453493502756, 0.5683569995313548, 0.5727238929518256]"
      ]
     },
     "execution_count": 18,
     "metadata": {},
     "output_type": "execute_result"
    }
   ],
   "source": [
    "data[0]"
   ]
  },
  {
   "cell_type": "code",
   "execution_count": null,
   "id": "b7abf994",
   "metadata": {},
   "outputs": [],
   "source": []
  }
 ],
 "metadata": {
  "kernelspec": {
   "display_name": "Python 3",
   "language": "python",
   "name": "python3"
  },
  "language_info": {
   "codemirror_mode": {
    "name": "ipython",
    "version": 3
   },
   "file_extension": ".py",
   "mimetype": "text/x-python",
   "name": "python",
   "nbconvert_exporter": "python",
   "pygments_lexer": "ipython3",
   "version": "3.8.10"
  }
 },
 "nbformat": 4,
 "nbformat_minor": 5
}
