{
 "cells": [
  {
   "cell_type": "code",
   "execution_count": 4,
   "id": "57dbdd1d",
   "metadata": {},
   "outputs": [],
   "source": [
    "import pandas as pd"
   ]
  },
  {
   "cell_type": "code",
   "execution_count": 16,
   "id": "f548d2b8",
   "metadata": {},
   "outputs": [],
   "source": [
    "FILENAME = \"all_signals\"\n",
    "df = pd.read_csv(f\"matched_six_vs_cli_onset/{FILENAME}.csv\")"
   ]
  },
  {
   "cell_type": "code",
   "execution_count": 17,
   "id": "188a2770",
   "metadata": {},
   "outputs": [],
   "source": [
    "df.sort_values(by=['TIME'], ignore_index=True).to_csv(f'matched_six_vs_cli_onset/{FILENAME}_sorted.csv', index=False)"
   ]
  },
  {
   "cell_type": "code",
   "execution_count": null,
   "id": "fd529b2a",
   "metadata": {},
   "outputs": [],
   "source": []
  }
 ],
 "metadata": {
  "kernelspec": {
   "display_name": "Python 3",
   "language": "python",
   "name": "python3"
  },
  "language_info": {
   "codemirror_mode": {
    "name": "ipython",
    "version": 3
   },
   "file_extension": ".py",
   "mimetype": "text/x-python",
   "name": "python",
   "nbconvert_exporter": "python",
   "pygments_lexer": "ipython3",
   "version": "3.8.10"
  }
 },
 "nbformat": 4,
 "nbformat_minor": 5
}
