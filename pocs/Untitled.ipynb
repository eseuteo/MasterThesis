{
 "cells": [
  {
   "cell_type": "code",
   "execution_count": 40,
   "id": "3d03c4bb",
   "metadata": {},
   "outputs": [
    {
     "name": "stdout",
     "output_type": "stream",
     "text": [
      "The nb_black extension is already loaded. To reload it, use:\n",
      "  %reload_ext nb_black\n"
     ]
    },
    {
     "data": {
      "application/javascript": [
       "\n",
       "            setTimeout(function() {\n",
       "                var nbb_cell_id = 40;\n",
       "                var nbb_unformatted_code = \"import pandas as pd\\nfrom datetime import datetime, timedelta\\n\\n%load_ext nb_black\";\n",
       "                var nbb_formatted_code = \"import pandas as pd\\nfrom datetime import datetime, timedelta\\n\\n%load_ext nb_black\";\n",
       "                var nbb_cells = Jupyter.notebook.get_cells();\n",
       "                for (var i = 0; i < nbb_cells.length; ++i) {\n",
       "                    if (nbb_cells[i].input_prompt_number == nbb_cell_id) {\n",
       "                        if (nbb_cells[i].get_text() == nbb_unformatted_code) {\n",
       "                             nbb_cells[i].set_text(nbb_formatted_code);\n",
       "                        }\n",
       "                        break;\n",
       "                    }\n",
       "                }\n",
       "            }, 500);\n",
       "            "
      ],
      "text/plain": [
       "<IPython.core.display.Javascript object>"
      ]
     },
     "metadata": {},
     "output_type": "display_data"
    }
   ],
   "source": [
    "import pandas as pd\n",
    "from datetime import datetime, timedelta\n",
    "\n",
    "%load_ext nb_black"
   ]
  },
  {
   "cell_type": "code",
   "execution_count": 11,
   "id": "db218c6a",
   "metadata": {},
   "outputs": [
    {
     "data": {
      "application/javascript": [
       "\n",
       "            setTimeout(function() {\n",
       "                var nbb_cell_id = 11;\n",
       "                var nbb_unformatted_code = \"signal_df = pd.read_csv(\\n    \\\"../src/main/resources/mimic2wdb/train-set/C1/signals_69435.csv\\\",\\n    header=None,\\n    names=[\\\"time\\\", \\\"a\\\", \\\"b\\\", \\\"c\\\", \\\"d\\\", \\\"ABP\\\", \\\"f\\\"],\\n)\";\n",
       "                var nbb_formatted_code = \"signal_df = pd.read_csv(\\n    \\\"../src/main/resources/mimic2wdb/train-set/C1/signals_69435.csv\\\",\\n    header=None,\\n    names=[\\\"time\\\", \\\"a\\\", \\\"b\\\", \\\"c\\\", \\\"d\\\", \\\"ABP\\\", \\\"f\\\"],\\n)\";\n",
       "                var nbb_cells = Jupyter.notebook.get_cells();\n",
       "                for (var i = 0; i < nbb_cells.length; ++i) {\n",
       "                    if (nbb_cells[i].input_prompt_number == nbb_cell_id) {\n",
       "                        if (nbb_cells[i].get_text() == nbb_unformatted_code) {\n",
       "                             nbb_cells[i].set_text(nbb_formatted_code);\n",
       "                        }\n",
       "                        break;\n",
       "                    }\n",
       "                }\n",
       "            }, 500);\n",
       "            "
      ],
      "text/plain": [
       "<IPython.core.display.Javascript object>"
      ]
     },
     "metadata": {},
     "output_type": "display_data"
    }
   ],
   "source": [
    "signal_df = pd.read_csv(\n",
    "    \"../src/main/resources/mimic2wdb/train-set/C1/signals_69435.csv\",\n",
    "    header=None,\n",
    "    names=[\"time\", \"a\", \"b\", \"c\", \"d\", \"ABP\", \"f\"],\n",
    ")"
   ]
  },
  {
   "cell_type": "code",
   "execution_count": 22,
   "id": "2f10afc4",
   "metadata": {},
   "outputs": [
    {
     "data": {
      "application/javascript": [
       "\n",
       "            setTimeout(function() {\n",
       "                var nbb_cell_id = 22;\n",
       "                var nbb_unformatted_code = \"signal_df[\\\"timestamp\\\"] = signal_df[\\\"time\\\"].apply(lambda x: datetime.strptime(x, \\\"%H:%M:%S %d/%m/%Y\\\").timestamp())\";\n",
       "                var nbb_formatted_code = \"signal_df[\\\"timestamp\\\"] = signal_df[\\\"time\\\"].apply(\\n    lambda x: datetime.strptime(x, \\\"%H:%M:%S %d/%m/%Y\\\").timestamp()\\n)\";\n",
       "                var nbb_cells = Jupyter.notebook.get_cells();\n",
       "                for (var i = 0; i < nbb_cells.length; ++i) {\n",
       "                    if (nbb_cells[i].input_prompt_number == nbb_cell_id) {\n",
       "                        if (nbb_cells[i].get_text() == nbb_unformatted_code) {\n",
       "                             nbb_cells[i].set_text(nbb_formatted_code);\n",
       "                        }\n",
       "                        break;\n",
       "                    }\n",
       "                }\n",
       "            }, 500);\n",
       "            "
      ],
      "text/plain": [
       "<IPython.core.display.Javascript object>"
      ]
     },
     "metadata": {},
     "output_type": "display_data"
    }
   ],
   "source": [
    "signal_df[\"timestamp\"] = signal_df[\"time\"].apply(\n",
    "    lambda x: datetime.strptime(x, \"%H:%M:%S %d/%m/%Y\").timestamp()\n",
    ")"
   ]
  },
  {
   "cell_type": "code",
   "execution_count": 33,
   "id": "f75ba3fa",
   "metadata": {},
   "outputs": [
    {
     "data": {
      "application/javascript": [
       "\n",
       "            setTimeout(function() {\n",
       "                var nbb_cell_id = 33;\n",
       "                var nbb_unformatted_code = \"signal_df[\\\"time\\\"] = signal_df[\\\"time\\\"].apply(lambda x: datetime.strptime(x, \\\"%H:%M:%S %d/%m/%Y\\\"))\";\n",
       "                var nbb_formatted_code = \"signal_df[\\\"time\\\"] = signal_df[\\\"time\\\"].apply(\\n    lambda x: datetime.strptime(x, \\\"%H:%M:%S %d/%m/%Y\\\")\\n)\";\n",
       "                var nbb_cells = Jupyter.notebook.get_cells();\n",
       "                for (var i = 0; i < nbb_cells.length; ++i) {\n",
       "                    if (nbb_cells[i].input_prompt_number == nbb_cell_id) {\n",
       "                        if (nbb_cells[i].get_text() == nbb_unformatted_code) {\n",
       "                             nbb_cells[i].set_text(nbb_formatted_code);\n",
       "                        }\n",
       "                        break;\n",
       "                    }\n",
       "                }\n",
       "            }, 500);\n",
       "            "
      ],
      "text/plain": [
       "<IPython.core.display.Javascript object>"
      ]
     },
     "metadata": {},
     "output_type": "display_data"
    }
   ],
   "source": [
    "signal_df[\"time\"] = signal_df[\"time\"].apply(\n",
    "    lambda x: datetime.strptime(x, \"%H:%M:%S %d/%m/%Y\")\n",
    ")"
   ]
  },
  {
   "cell_type": "code",
   "execution_count": 35,
   "id": "1097c2ea",
   "metadata": {},
   "outputs": [
    {
     "data": {
      "application/javascript": [
       "\n",
       "            setTimeout(function() {\n",
       "                var nbb_cell_id = 35;\n",
       "                var nbb_unformatted_code = \"signal_df = signal_df.set_index(\\\"time\\\")\";\n",
       "                var nbb_formatted_code = \"signal_df = signal_df.set_index(\\\"time\\\")\";\n",
       "                var nbb_cells = Jupyter.notebook.get_cells();\n",
       "                for (var i = 0; i < nbb_cells.length; ++i) {\n",
       "                    if (nbb_cells[i].input_prompt_number == nbb_cell_id) {\n",
       "                        if (nbb_cells[i].get_text() == nbb_unformatted_code) {\n",
       "                             nbb_cells[i].set_text(nbb_formatted_code);\n",
       "                        }\n",
       "                        break;\n",
       "                    }\n",
       "                }\n",
       "            }, 500);\n",
       "            "
      ],
      "text/plain": [
       "<IPython.core.display.Javascript object>"
      ]
     },
     "metadata": {},
     "output_type": "display_data"
    }
   ],
   "source": [
    "signal_df = signal_df.set_index(\"time\")"
   ]
  },
  {
   "cell_type": "code",
   "execution_count": 36,
   "id": "bec6b46b",
   "metadata": {},
   "outputs": [
    {
     "data": {
      "text/plain": [
       "Rolling [window=600000000000,min_periods=1,center=False,win_type=freq,axis=0]"
      ]
     },
     "execution_count": 36,
     "metadata": {},
     "output_type": "execute_result"
    },
    {
     "data": {
      "application/javascript": [
       "\n",
       "            setTimeout(function() {\n",
       "                var nbb_cell_id = 36;\n",
       "                var nbb_unformatted_code = \"signal_df.rolling(\\\"10T\\\")\";\n",
       "                var nbb_formatted_code = \"signal_df.rolling(\\\"10T\\\")\";\n",
       "                var nbb_cells = Jupyter.notebook.get_cells();\n",
       "                for (var i = 0; i < nbb_cells.length; ++i) {\n",
       "                    if (nbb_cells[i].input_prompt_number == nbb_cell_id) {\n",
       "                        if (nbb_cells[i].get_text() == nbb_unformatted_code) {\n",
       "                             nbb_cells[i].set_text(nbb_formatted_code);\n",
       "                        }\n",
       "                        break;\n",
       "                    }\n",
       "                }\n",
       "            }, 500);\n",
       "            "
      ],
      "text/plain": [
       "<IPython.core.display.Javascript object>"
      ]
     },
     "metadata": {},
     "output_type": "display_data"
    }
   ],
   "source": [
    "signal_df.rolling(\"10T\")"
   ]
  },
  {
   "cell_type": "code",
   "execution_count": 108,
   "id": "4eb0ebd4",
   "metadata": {},
   "outputs": [
    {
     "data": {
      "application/javascript": [
       "\n",
       "            setTimeout(function() {\n",
       "                var nbb_cell_id = 108;\n",
       "                var nbb_unformatted_code = \"def get_interpolation(before, after, current_time, df):\\n    if before and after:\\n        weight = (current_time - before) / (after - before)\\n        return (\\n            df[df[\\\"timestamp\\\"] == before].iloc[0][\\\"ABP\\\"] * (1 - weight)\\n            + df[df[\\\"timestamp\\\"] == after].iloc[0][\\\"ABP\\\"] * weight\\n        )\\n    elif before:\\n        return df[df[\\\"timestamp\\\"] == before].iloc[0][\\\"ABP\\\"]\\n    elif after:\\n        return df[df[\\\"timestamp\\\"] == after].iloc[0][\\\"ABP\\\"]\\n    else:\\n        0.0\";\n",
       "                var nbb_formatted_code = \"def get_interpolation(before, after, current_time, df):\\n    if before and after:\\n        weight = (current_time - before) / (after - before)\\n        return (\\n            df[df[\\\"timestamp\\\"] == before].iloc[0][\\\"ABP\\\"] * (1 - weight)\\n            + df[df[\\\"timestamp\\\"] == after].iloc[0][\\\"ABP\\\"] * weight\\n        )\\n    elif before:\\n        return df[df[\\\"timestamp\\\"] == before].iloc[0][\\\"ABP\\\"]\\n    elif after:\\n        return df[df[\\\"timestamp\\\"] == after].iloc[0][\\\"ABP\\\"]\\n    else:\\n        0.0\";\n",
       "                var nbb_cells = Jupyter.notebook.get_cells();\n",
       "                for (var i = 0; i < nbb_cells.length; ++i) {\n",
       "                    if (nbb_cells[i].input_prompt_number == nbb_cell_id) {\n",
       "                        if (nbb_cells[i].get_text() == nbb_unformatted_code) {\n",
       "                             nbb_cells[i].set_text(nbb_formatted_code);\n",
       "                        }\n",
       "                        break;\n",
       "                    }\n",
       "                }\n",
       "            }, 500);\n",
       "            "
      ],
      "text/plain": [
       "<IPython.core.display.Javascript object>"
      ]
     },
     "metadata": {},
     "output_type": "display_data"
    }
   ],
   "source": [
    "def get_interpolation(before, after, current_time, df):\n",
    "    if before and after:\n",
    "        weight = (current_time - before) / (after - before)\n",
    "        return (\n",
    "            df[df[\"timestamp\"] == before].iloc[0][\"ABP\"] * (1 - weight)\n",
    "            + df[df[\"timestamp\"] == after].iloc[0][\"ABP\"] * weight\n",
    "        )\n",
    "    elif before:\n",
    "        return df[df[\"timestamp\"] == before].iloc[0][\"ABP\"]\n",
    "    elif after:\n",
    "        return df[df[\"timestamp\"] == after].iloc[0][\"ABP\"]\n",
    "    else:\n",
    "        0.0"
   ]
  },
  {
   "cell_type": "code",
   "execution_count": 109,
   "id": "0f4d3c77",
   "metadata": {},
   "outputs": [
    {
     "data": {
      "application/javascript": [
       "\n",
       "            setTimeout(function() {\n",
       "                var nbb_cell_id = 109;\n",
       "                var nbb_unformatted_code = \"list_elements = []\\niterations = 0\\nlast_window_start = None\\ncurrent_datapoint = None\\nfor item in signal_df.rolling(\\\"10T\\\"):\\n    if last_window_start is None:\\n        last_window_start = item.iloc[0][\\\"ABP\\\"]\\n    timestamp_diff = item.iloc[-1][\\\"timestamp\\\"] - item.iloc[0][\\\"timestamp\\\"]\\n    current_datapoint_candidates = [\\n        x for x in list(item[\\\"timestamp\\\"]) if x == last_window_start + 360.0\\n    ]\\n    if len(current_datapoint_candidates) > 0:\\n        current_datapoint = current_datapoint_candidates[0]\\n    else:\\n        current_datapoint = None\\n\\n    if timestamp_diff == 540.0:\\n        if current_datapoint:\\n            list_elements.append(\\n                item[item[\\\"timestamp\\\"] == current_datapoint][[\\\"ABP\\\"]].iloc[0]\\n            )\\n        else:\\n            neighbors_before = [\\n                x for x in list(item[\\\"timestamp\\\"]) if x < last_window_start + 360\\n            ]\\n            neighbors_after = [\\n                x for x in list(item[\\\"timestamp\\\"]) if x > last_window_start + 360\\n            ]\\n            if len(neighbors_before) > 0:\\n                neighbor_before = neighbors_before[-1]\\n            else:\\n                neighbor_before = None\\n            if len(neighbors_after) > 0:\\n                neighbor_after = neighbors_after[0]\\n            else:\\n                neighbor_after = None\\n\\n            interpolation = get_interpolation(\\n                neighbor_before, neighbor_after, last_window_start + 360, item\\n            )\\n\\n            list_elements.append(interpolation)\\n\\n    last_window_start = item.iloc[0][\\\"timestamp\\\"]\\n\\nwith open(\\\"output.txt\\\", \\\"w\\\") as f:\\n    for item in list_elements:\\n        f.write(f\\\"{item}\\\\n\\\")\";\n",
       "                var nbb_formatted_code = \"list_elements = []\\niterations = 0\\nlast_window_start = None\\ncurrent_datapoint = None\\nfor item in signal_df.rolling(\\\"10T\\\"):\\n    if last_window_start is None:\\n        last_window_start = item.iloc[0][\\\"ABP\\\"]\\n    timestamp_diff = item.iloc[-1][\\\"timestamp\\\"] - item.iloc[0][\\\"timestamp\\\"]\\n    current_datapoint_candidates = [\\n        x for x in list(item[\\\"timestamp\\\"]) if x == last_window_start + 360.0\\n    ]\\n    if len(current_datapoint_candidates) > 0:\\n        current_datapoint = current_datapoint_candidates[0]\\n    else:\\n        current_datapoint = None\\n\\n    if timestamp_diff == 540.0:\\n        if current_datapoint:\\n            list_elements.append(\\n                item[item[\\\"timestamp\\\"] == current_datapoint][[\\\"ABP\\\"]].iloc[0]\\n            )\\n        else:\\n            neighbors_before = [\\n                x for x in list(item[\\\"timestamp\\\"]) if x < last_window_start + 360\\n            ]\\n            neighbors_after = [\\n                x for x in list(item[\\\"timestamp\\\"]) if x > last_window_start + 360\\n            ]\\n            if len(neighbors_before) > 0:\\n                neighbor_before = neighbors_before[-1]\\n            else:\\n                neighbor_before = None\\n            if len(neighbors_after) > 0:\\n                neighbor_after = neighbors_after[0]\\n            else:\\n                neighbor_after = None\\n\\n            interpolation = get_interpolation(\\n                neighbor_before, neighbor_after, last_window_start + 360, item\\n            )\\n\\n            list_elements.append(interpolation)\\n\\n    last_window_start = item.iloc[0][\\\"timestamp\\\"]\\n\\nwith open(\\\"output.txt\\\", \\\"w\\\") as f:\\n    for item in list_elements:\\n        f.write(f\\\"{item}\\\\n\\\")\";\n",
       "                var nbb_cells = Jupyter.notebook.get_cells();\n",
       "                for (var i = 0; i < nbb_cells.length; ++i) {\n",
       "                    if (nbb_cells[i].input_prompt_number == nbb_cell_id) {\n",
       "                        if (nbb_cells[i].get_text() == nbb_unformatted_code) {\n",
       "                             nbb_cells[i].set_text(nbb_formatted_code);\n",
       "                        }\n",
       "                        break;\n",
       "                    }\n",
       "                }\n",
       "            }, 500);\n",
       "            "
      ],
      "text/plain": [
       "<IPython.core.display.Javascript object>"
      ]
     },
     "metadata": {},
     "output_type": "display_data"
    }
   ],
   "source": [
    "list_elements = []\n",
    "iterations = 0\n",
    "last_window_start = None\n",
    "current_datapoint = None\n",
    "for item in signal_df.rolling(\"10T\"):\n",
    "    if last_window_start is None:\n",
    "        last_window_start = item.iloc[0][\"ABP\"]\n",
    "    timestamp_diff = item.iloc[-1][\"timestamp\"] - item.iloc[0][\"timestamp\"]\n",
    "    current_datapoint_candidates = [\n",
    "        x for x in list(item[\"timestamp\"]) if x == last_window_start + 360.0\n",
    "    ]\n",
    "    if len(current_datapoint_candidates) > 0:\n",
    "        current_datapoint = current_datapoint_candidates[0]\n",
    "    else:\n",
    "        current_datapoint = None\n",
    "\n",
    "    if timestamp_diff == 540.0:\n",
    "        if current_datapoint:\n",
    "            list_elements.append(\n",
    "                item[item[\"timestamp\"] == current_datapoint][[\"ABP\"]].iloc[0]\n",
    "            )\n",
    "        else:\n",
    "            neighbors_before = [\n",
    "                x for x in list(item[\"timestamp\"]) if x < last_window_start + 360\n",
    "            ]\n",
    "            neighbors_after = [\n",
    "                x for x in list(item[\"timestamp\"]) if x > last_window_start + 360\n",
    "            ]\n",
    "            if len(neighbors_before) > 0:\n",
    "                neighbor_before = neighbors_before[-1]\n",
    "            else:\n",
    "                neighbor_before = None\n",
    "            if len(neighbors_after) > 0:\n",
    "                neighbor_after = neighbors_after[0]\n",
    "            else:\n",
    "                neighbor_after = None\n",
    "\n",
    "            interpolation = get_interpolation(\n",
    "                neighbor_before, neighbor_after, last_window_start + 360, item\n",
    "            )\n",
    "\n",
    "            list_elements.append(interpolation)\n",
    "\n",
    "    last_window_start = item.iloc[0][\"timestamp\"]\n",
    "\n",
    "with open(\"output.txt\", \"w\") as f:\n",
    "    for item in list_elements:\n",
    "        f.write(f\"{item}\\n\")"
   ]
  },
  {
   "cell_type": "code",
   "execution_count": null,
   "id": "c23f0ec9",
   "metadata": {},
   "outputs": [],
   "source": []
  }
 ],
 "metadata": {
  "kernelspec": {
   "display_name": "Python 3",
   "language": "python",
   "name": "python3"
  },
  "language_info": {
   "codemirror_mode": {
    "name": "ipython",
    "version": 3
   },
   "file_extension": ".py",
   "mimetype": "text/x-python",
   "name": "python",
   "nbconvert_exporter": "python",
   "pygments_lexer": "ipython3",
   "version": "3.8.5"
  }
 },
 "nbformat": 4,
 "nbformat_minor": 5
}
