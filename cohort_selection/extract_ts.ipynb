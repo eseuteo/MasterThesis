{
 "cells": [
  {
   "source": [
    "### Extract Time Series\n",
    "\n",
    "Notebook for obtaining time series of a given patient.\n",
    "In case there are several records from an ICU stay, the time series will include a gap."
   ],
   "cell_type": "markdown",
   "metadata": {}
  },
  {
   "cell_type": "code",
   "execution_count": 2,
   "metadata": {},
   "outputs": [],
   "source": [
    "import pandas as pd\n",
    "import numpy as np\n",
    "\n",
    "import psycopg2\n",
    "import os\n",
    "import wfdb\n",
    "import urllib.request\n",
    "import datetime\n",
    "import re\n",
    "\n",
    "from utils import (\n",
    "    get_record_from_line,\n",
    "    get_time_range_icustay,\n",
    "    get_time_range_record,\n",
    "    get_signal_index,\n",
    "    ranges_overlap,\n",
    "    get_delta_earliest_end_latest_start,\n",
    ")"
   ]
  },
  {
   "cell_type": "code",
   "execution_count": 3,
   "id": "3955b004",
   "metadata": {},
   "outputs": [],
   "source": [
    "subject_id = 55638\n",
    "current_user_id = str(subject_id).zfill(6)\n",
    "wdb_base_path = \"https://physionet.org/files/\"\n",
    "wdb_dir_path = f\"mimic3wdb-matched/1.0/p{current_user_id[:2]}/p{current_user_id}/\"\n",
    "\n",
    "required_signals_list = [\"HR\", \"ABPSYS\", 'ABPDIAS', \"ABPMEAN\", \"RESP\", \"SPO2\"]"
   ]
  },
  {
   "cell_type": "code",
   "execution_count": 4,
   "metadata": {},
   "outputs": [],
   "source": [
    "connection = psycopg2.connect(database=\"mimic\", user=\"holthausen\")\n",
    "cursor = connection.cursor()\n",
    "cursor.execute(\"set search_path to mimiciii\")\n",
    "\n",
    "query_subject_id = f\"SELECT  * FROM sepsis3_cohort coh WHERE coh.subject_id = {subject_id}\"\n",
    "df_subject_id = pd.read_sql(query_subject_id, connection)"
   ]
  },
  {
   "cell_type": "code",
   "execution_count": 5,
   "metadata": {},
   "outputs": [],
   "source": [
    "time_range_icustay = get_time_range_icustay(df_subject_id.iloc[0])"
   ]
  },
  {
   "cell_type": "code",
   "execution_count": 7,
   "metadata": {},
   "outputs": [],
   "source": [
    "time_range_icustay\n",
    "icustay_length_in_seconds = (time_range_icustay[1] - time_range_icustay[0]).total_seconds()"
   ]
  },
  {
   "cell_type": "code",
   "execution_count": 53,
   "id": "4de85cad",
   "metadata": {},
   "outputs": [
    {
     "output_type": "stream",
     "name": "stdout",
     "text": [
      "Updating field HR in ranges 226 to 2546\nUpdating field ABPSYS in ranges 226 to 2546\nUpdating field ABPDIAS in ranges 226 to 2546\nUpdating field ABPMEAN in ranges 226 to 2546\nUpdating field RESP in ranges 226 to 2546\nUpdating field SPO2 in ranges 226 to 2546\n"
     ]
    }
   ],
   "source": [
    "wdb_records = urllib.request.urlopen(wdb_base_path + wdb_dir_path + \"RECORDS\")\n",
    "\n",
    "numerics_files_list = [get_record_from_line(line) for line in wdb_records.readlines() if get_record_from_line(line)[-1] == \"n\"]\n",
    "\n",
    "# take out?\n",
    "signals_dict = None\n",
    "\n",
    "for record in numerics_files_list:\n",
    "    signals, fields = wfdb.rdsamp(record, pn_dir=wdb_dir_path)\n",
    "\n",
    "    time_range_record = get_time_range_record(fields)\n",
    "    time_range_overlapped = get_overlapped_range(time_range_icustay, time_range_record)\n",
    "\n",
    "    if time_range_overlapped is None:\n",
    "        continue\n",
    "\n",
    "    sampling_frequency_magnitude = \"seconds\" if \"%.3f\" % (fields[\"fs\"]) == \"1.000\" else \"minutes\"\n",
    "\n",
    "    if signals_dict is None:\n",
    "        icustay_length_in_seconds = (time_range_icustay[1] - time_range_icustay[0]).total_seconds()\n",
    "        signal_length = int(icustay_length_in_seconds if sampling_frequency_magnitude == \"seconds\" else icustay_length_in_seconds // 60)\n",
    "        signals_dict = get_empty_signals_dict(signal_length, required_signals_list, time_range_icustay)\n",
    "        \n",
    "    signals_names_list = [re.sub(r\"[\\s%]\", \"\", item.upper()) for item in fields[\"sig_name\"]]\n",
    "    \n",
    "    signals_exist = all(x in signals_names_list for x in required_signals_list)\n",
    "\n",
    "    index_start_signal = get_index_difference(time_range_icustay[0], time_range_overlapped[0], sampling_frequency_magnitude)\n",
    "\n",
    "    if signals_exist:\n",
    "        update_signals_dict(signals, signals_dict, required_signals_list, signals_names_list, index_start_signal)\n",
    "\n",
    "df = pd.DataFrame(signals_dict)\n",
    "df.to_csv(f\"signals_{subject_id}.csv\", index=False)"
   ]
  },
  {
   "cell_type": "code",
   "execution_count": 52,
   "metadata": {},
   "outputs": [],
   "source": [
    "def get_empty_signals_dict(length, signals_list, time_range_icustay):\n",
    "    signals_dict = dict()\n",
    "    basetime = time_range_icustay[0]\n",
    "    if sampling_frequency_magnitude == \"seconds\":\n",
    "        time_column = np.array([basetime + datetime.timedelta(seconds=i+1) for i in range(signal_length)])\n",
    "    else:\n",
    "        time_column = np.array([basetime + datetime.timedelta(minutes=i+1) for i in range(signal_length)])\n",
    "    signals_dict[\"TIME\"] = time_column\n",
    "    for item in signals_list:\n",
    "        # numpy arrays with empty strings but with datatype = strings of length 10\n",
    "        signals_dict[item] = np.full(length,  np.nan, dtype=float)\n",
    "    return signals_dict"
   ]
  },
  {
   "cell_type": "code",
   "execution_count": 50,
   "metadata": {},
   "outputs": [],
   "source": [
    "def update_signals_dict(signals, signals_dict, signals_names, signals_names_list, index_start):\n",
    "    index_dict = dict([(item, get_signal_index(item, signals_names_list)) for item in signals_names])\n",
    "    for item in signals_names:\n",
    "        signal_length = signals[:, index_dict[item]].shape[0]\n",
    "        icustay_length = signals_dict[item].shape[0]\n",
    "        index_end = min(index_start + signal_length, icustay_length - index_start)\n",
    "        signal_info = signals[:,index_dict[item]]\n",
    "        print(f\"Updating field {item} in ranges {index_start} to {index_end}\")\n",
    "        signals_dict[item][index_start:index_end] = signal_info[:index_end-index_start]"
   ]
  },
  {
   "cell_type": "code",
   "execution_count": 41,
   "id": "cd9abb5f",
   "metadata": {},
   "outputs": [],
   "source": [
    "def get_index_difference(point_in_time_a, point_in_time_b, magnitude):\n",
    "    return int((point_in_time_b - point_in_time_a).total_seconds() // (1 if magnitude == \"seconds\" else 60))"
   ]
  },
  {
   "cell_type": "code",
   "execution_count": 42,
   "id": "1bf06041",
   "metadata": {},
   "outputs": [],
   "source": [
    "def read_record(record: str, wdb_dir_path: str) -> [str]:\n",
    "    signals_in_physiobank = []\n",
    "    try:\n",
    "        signals, fields = wfdb.rdsamp(record, pn_dir=wdb_dir_path)\n",
    "        for i in fields[\"sig_name\"]:\n",
    "            signals_in_physiobank.append(i)\n",
    "    except ValueError:\n",
    "        print(f\"Error occurred while reading waveform: {record}\")\n",
    "    return signals_in_physiobank"
   ]
  },
  {
   "cell_type": "code",
   "execution_count": 43,
   "id": "9f71999a",
   "metadata": {},
   "outputs": [],
   "source": [
    "def get_overlapped_range(range_icustay, range_record):\n",
    "    latest_start = max(range_icustay[0], range_record[0])\n",
    "    earliest_end = min(range_icustay[1], range_record[1])\n",
    "    delta = (earliest_end - latest_start).days + 1\n",
    "    overlap = max(0, delta)\n",
    "    range_output = None\n",
    "    if overlap:\n",
    "        range_output = (latest_start, earliest_end)\n",
    "    return range_output\n",
    "    "
   ]
  },
  {
   "cell_type": "code",
   "execution_count": null,
   "metadata": {},
   "outputs": [],
   "source": []
  }
 ],
 "metadata": {
  "kernelspec": {
   "display_name": "Python 3",
   "language": "python",
   "name": "python3"
  },
  "language_info": {
   "codemirror_mode": {
    "name": "ipython",
    "version": 3
   },
   "file_extension": ".py",
   "mimetype": "text/x-python",
   "name": "python",
   "nbconvert_exporter": "python",
   "pygments_lexer": "ipython3",
   "version": "2.7.12"
  }
 },
 "nbformat": 4,
 "nbformat_minor": 5
}